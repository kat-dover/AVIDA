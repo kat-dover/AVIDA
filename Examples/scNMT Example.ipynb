{
 "cells": [
  {
   "cell_type": "code",
   "execution_count": null,
   "metadata": {},
   "outputs": [],
   "source": [
    "import numpy as np\n",
    "import matplotlib.pyplot as plt\n",
    "import sys\n",
    "sys.path.insert(1, '../src/')\n",
    "import utils as ut\n",
    "import avida as avida\n",
    "import evals as evals"
   ]
  },
  {
   "cell_type": "code",
   "execution_count": null,
   "metadata": {},
   "outputs": [],
   "source": [
    "data2 = np.loadtxt(\"../data/acc_30.txt\")\n",
    "data3 = np.loadtxt(\"../data/met_30.txt\")\n",
    "data1 = np.loadtxt(\"../data/rna_30.txt\")\n",
    "type2 = np.loadtxt(\"../data/acc_stage.txt\")\n",
    "type3 = np.loadtxt(\"../data/met_stage.txt\")\n",
    "type1 = np.loadtxt(\"../data/rna_stage.txt\")\n",
    "type1 = type1.astype(int)\n",
    "type2 = type2.astype(int)\n",
    "type3 = type3.astype(int)\n",
    "data = [data2,data3]\n",
    "datatype = [type2,type3]\n",
    "\n",
    "(n1, d1) = data1.shape\n",
    "(n2, d2) = data2.shape\n",
    "(n3, d3) = data3.shape\n",
    "data1_labels = np.zeros((n1,1))\n",
    "data2_labels = np.ones((n2,1))\n",
    "data3_labels = 2*np.ones((n3,1))\n",
    "our_normalize=1\n",
    "\n",
    "Y1, Y2 = integrate_tsne_gw(data2,data3,alpha=50,perplexity=100,normalize=our_normalize,visualize=0,labels1=type2,labels2=type3,graph_dist=False,partial=True,partial_size=0.9,our_log=False)\n",
    "\n",
    "scNMT_FOSCTTM_avida = np.mean(evals.calc_domainAveraged_FOSCTTM(Y1, Y2[0:n2,:]))\n",
    "scNMT_integration_avida = evals.integration_score(Y1,Y2)\n",
    "scNMT_vision_loss_avida = evals.vis_loss(data2,data3,Y1,Y2,our_normalize)\n",
    "scNMT_alignment_avida = evals.test_alignment_score(Y1,Y2)\n",
    "scNMT_accuracy_avida = evals.test_transfer_accuracy(Y1, Y2, type2, type3)\n",
    "scNMT_accuracy_ours_avida = evals.our_accuracy(Y1,Y2[0:n2,:])"
   ]
  },
  {
   "cell_type": "code",
   "execution_count": null,
   "metadata": {},
   "outputs": [],
   "source": [
    "fig, axs = plt.subplots(1, 2)\n",
    "fig.set_size_inches(18.5, 10.5)\n",
    "\n",
    "axs[0].scatter(Y1[:,0],Y1[:,1],c=type2)\n",
    "axs[0].scatter(Y2[:,0],Y2[:,1],c=type3)\n",
    "axs[0].set_title('Cell Stages')\n",
    "\n",
    "axs[1].scatter(Y1[:,0],Y1[:,1])\n",
    "axs[1].scatter(Y2[:,0],Y2[:,1])\n",
    "axs[1].set_title('Datasets')"
   ]
  }
 ],
 "metadata": {
  "kernelspec": {
   "display_name": "Python 3",
   "language": "python",
   "name": "python3"
  },
  "language_info": {
   "codemirror_mode": {
    "name": "ipython",
    "version": 3
   },
   "file_extension": ".py",
   "mimetype": "text/x-python",
   "name": "python",
   "nbconvert_exporter": "python",
   "pygments_lexer": "ipython3",
   "version": "3.8.5"
  }
 },
 "nbformat": 4,
 "nbformat_minor": 4
}
