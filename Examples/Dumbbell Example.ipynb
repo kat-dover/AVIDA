{
 "cells": [
  {
   "cell_type": "code",
   "execution_count": 1,
   "metadata": {},
   "outputs": [],
   "source": [
    "import numpy as np\n",
    "import matplotlib.pyplot as plt\n",
    "import sys\n",
    "sys.path.insert(1, '../src/')\n",
    "import utils as ut\n",
    "import avida as avida\n",
    "import evals as evals"
   ]
  },
  {
   "cell_type": "code",
   "execution_count": 2,
   "metadata": {},
   "outputs": [],
   "source": [
    "## create dumbbell dataset\n",
    "def circle(n, r, sigma):\n",
    "    theta = np.random.rand(n) * 2 * np.pi\n",
    "    radius = np.random.randn(n) * sigma + r\n",
    "    X = np.empty([n,2])\n",
    "    X[:,0] = np.cos(theta) * radius\n",
    "    X[:,1] = np.sin(theta) * radius\n",
    "    return X\n",
    "\n",
    "n = 200\n",
    "m = 200\n",
    "np.random.seed(547)\n",
    "our_normalize=0\n",
    "\n",
    "X1 = np.empty([n,2])\n",
    "X1[:,0] = np.random.rand(n) * 50\n",
    "X1[:,1] = np.random.randn(n)\n",
    "\n",
    "X2 = np.zeros([m,2])\n",
    "X2[:50,:] = circle(50, 3, 0.5)\n",
    "X2[50:100,:] = circle(50, 3, 0.5) \n",
    "X2[50:100,0] += 14\n",
    "X2[100:200,0] = np.random.rand(100) * 7 + 3\n",
    "X2[100:200,1] = np.random.randn(100) * 0.2\n",
    "\n",
    "labels_1 = np.zeros(n)\n",
    "labels_2 = np.zeros(m)\n",
    "labels_2[:50] = 1\n",
    "labels_2[50:100]=2"
   ]
  },
  {
   "cell_type": "code",
   "execution_count": 3,
   "metadata": {
    "scrolled": true
   },
   "outputs": [
    {
     "name": "stdout",
     "output_type": "stream",
     "text": [
      "Computing pairwise distances...\n",
      "Computing P-values for point 0 of 200...\n",
      "Mean value of sigma: 2.920108\n",
      "Computing pairwise distances...\n",
      "Computing P-values for point 0 of 200...\n",
      "Mean value of sigma: 1.570276\n",
      "Iteration 100: error is 16.621173\n",
      "Iteration 200: error is 17.789767\n",
      "Iteration 300: error is 0.311677\n",
      "It.  |Err         |Loss        \n",
      "-------------------------------\n",
      "    0|2.953301e-03|1.177663e+01\n",
      "   10|9.921511e-04|9.492345e+00\n",
      "   20|4.224482e-05|4.190495e+00\n",
      "   30|9.792339e-06|4.189844e+00\n",
      "   40|2.273925e-06|4.189845e+00\n",
      "   50|5.281645e-07|4.189854e+00\n",
      "   60|1.226852e-07|4.189856e+00\n",
      "   70|2.849852e-08|4.189857e+00\n",
      "4.189856699776275\n",
      "Iteration 400: error is 0.290495\n",
      "It.  |Err         |Loss        \n",
      "-------------------------------\n",
      "    0|3.324580e-03|1.558251e+01\n",
      "   10|1.090790e-04|3.687873e+00\n",
      "   20|1.667112e-05|3.685244e+00\n",
      "   30|3.664808e-06|3.686409e+00\n",
      "   40|8.076142e-07|3.686696e+00\n",
      "   50|1.780774e-07|3.686761e+00\n",
      "   60|3.927083e-08|3.686775e+00\n",
      "3.6867753843479942\n",
      "Iteration 500: error is 0.269874\n",
      "It.  |Err         |Loss        \n",
      "-------------------------------\n",
      "    0|3.446585e-03|1.832594e+01\n",
      "   10|9.286826e-05|3.628145e+00\n",
      "   20|1.904817e-05|3.623957e+00\n",
      "   30|3.907736e-06|3.624129e+00\n",
      "   40|8.023022e-07|3.624207e+00\n",
      "   50|1.647564e-07|3.624224e+00\n",
      "   60|3.383500e-08|3.624228e+00\n",
      "3.624228158769644\n",
      "Iteration 600: error is 0.258973\n",
      "It.  |Err         |Loss        \n",
      "-------------------------------\n",
      "    0|3.535974e-03|2.035462e+01\n",
      "   10|2.094829e-04|3.623234e+00\n",
      "   20|4.369090e-05|3.598045e+00\n",
      "   30|8.908529e-06|3.597896e+00\n",
      "   40|1.818503e-06|3.598080e+00\n",
      "   50|3.713913e-07|3.598126e+00\n",
      "   60|7.585720e-08|3.598136e+00\n",
      "3.598136247030803\n",
      "Iteration 700: error is 0.252701\n",
      "It.  |Err         |Loss        \n",
      "-------------------------------\n",
      "    0|3.605485e-03|2.195028e+01\n",
      "   10|2.298479e-04|3.604137e+00\n",
      "   20|4.698992e-05|3.575421e+00\n",
      "   30|9.344148e-06|3.575431e+00\n",
      "   40|1.860967e-06|3.575670e+00\n",
      "   50|3.708415e-07|3.575727e+00\n",
      "   60|7.390822e-08|3.575738e+00\n",
      "3.5757384383925976\n",
      "Iteration 800: error is 0.248906\n",
      "It.  |Err         |Loss        \n",
      "-------------------------------\n",
      "    0|3.662884e-03|2.321753e+01\n",
      "   10|2.047625e-04|3.581343e+00\n",
      "   20|4.079670e-05|3.560492e+00\n",
      "   30|7.981857e-06|3.560762e+00\n",
      "   40|1.564216e-06|3.560986e+00\n",
      "   50|3.067005e-07|3.561037e+00\n",
      "   60|6.014226e-08|3.561047e+00\n",
      "3.5610469844931982\n",
      "Iteration 900: error is 0.246533\n",
      "It.  |Err         |Loss        \n",
      "-------------------------------\n",
      "    0|3.707272e-03|2.422240e+01\n",
      "   10|2.025453e-04|3.568747e+00\n",
      "   20|3.966343e-05|3.549079e+00\n",
      "   30|7.640333e-06|3.549419e+00\n",
      "   40|1.474226e-06|3.549642e+00\n",
      "   50|2.845996e-07|3.549691e+00\n",
      "   60|5.494771e-08|3.549700e+00\n",
      "3.5497004668122702\n",
      "Iteration 1000: error is 0.244072\n",
      "Time:  23.7301978\n",
      "Computing pairwise distances...\n",
      "Computing P-values for point 0 of 200...\n",
      "Mean value of sigma: 2.920108\n",
      "Computing pairwise distances...\n",
      "Computing P-values for point 0 of 200...\n",
      "Mean value of sigma: 1.570276\n",
      "AVIDA FOSCTTM score: 0.5227777777777778\n",
      "AVIDA Integration score: 0.5567663257178994\n",
      "AVIDA t-SNE Loss: 0.12202130956127644\n",
      "AVIDA Alignment Score: 0.6385\n",
      "AVIDA Our Accuracy: 11.224412579255011\n"
     ]
    }
   ],
   "source": [
    "Y1, Y2 = avida.avida_tsne(X1,X2,alpha=0.3,normalize=our_normalize,visualize=0,labels1=labels_1,labels2=labels_2,partial=True,partial_size=0.75)\n",
    "\n",
    "dumbbell_FOSCTTM_avida = np.mean(evals.calc_domainAveraged_FOSCTTM(Y1[50:150,:], Y2[100:200,:]))\n",
    "dumbbell_integration_avida = evals.integration_score(Y1,Y2)\n",
    "dumbbell_vision_loss_avida = evals.vis_loss(X1,X2,Y1,Y2,our_normalize)\n",
    "dumbbell_alignment_avida = evals.test_alignment_score(Y1,Y2)\n",
    "dumbbell_accuracy_ours_avida = evals.our_accuracy(Y1[50:150,:], Y2[100:200,:])\n",
    "\n",
    "print('AVIDA FOSCTTM score: '+str(dumbbell_FOSCTTM_avida))\n",
    "print('AVIDA Integration score: '+str(dumbbell_integration_avida))\n",
    "print('AVIDA t-SNE Loss: '+str(dumbbell_vision_loss_avida))\n",
    "print('AVIDA Alignment Score: '+str(dumbbell_alignment_avida))\n",
    "print('AVIDA Our Accuracy: '+str(dumbbell_accuracy_ours_avida))"
   ]
  },
  {
   "cell_type": "code",
   "execution_count": 5,
   "metadata": {},
   "outputs": [
    {
     "data": {
      "text/plain": [
       "Text(0.5, 1.0, 'AVIDA: Colored by Domain')"
      ]
     },
     "execution_count": 5,
     "metadata": {},
     "output_type": "execute_result"
    },
    {
     "data": {
      "image/png": "[encoded data removed]",
      "text/plain": [
       "<Figure size 432x288 with 1 Axes>"
      ]
     },
     "metadata": {
      "needs_background": "light"
     },
     "output_type": "display_data"
    }
   ],
   "source": [
    "plt.scatter(Y2[:,0],Y2[:,1],c='r',s=15)\n",
    "plt.scatter(Y1[:,0],Y1[:,1],c='k',s=15)\n",
    "plt.title(\"AVIDA: Colored by Domain\")"
   ]
  },
  {
   "cell_type": "code",
   "execution_count": null,
   "metadata": {},
   "outputs": [],
   "source": []
  }
 ],
 "metadata": {
  "kernelspec": {
   "display_name": "Python 3",
   "language": "python",
   "name": "python3"
  },
  "language_info": {
   "codemirror_mode": {
    "name": "ipython",
    "version": 3
   },
   "file_extension": ".py",
   "mimetype": "text/x-python",
   "name": "python",
   "nbconvert_exporter": "python",
   "pygments_lexer": "ipython3",
   "version": "3.8.5"
  }
 },
 "nbformat": 4,
 "nbformat_minor": 4
}
